{
 "cells": [
  {
   "cell_type": "markdown",
   "metadata": {},
   "source": [
    "# Function :\n",
    "\n",
    "Function is a set of instruction that used to stop repetation of codes\n",
    "\n",
    ". Pre-Define Functions\n",
    ". User Define Functions\n",
    "\n",
    "Function Sub Types :\n",
    "\n",
    ". Return\n",
    ". Non Return\n",
    ". Required Arguments\n",
    ". Optional Arguments\n",
    ". Default unctions\n",
    "\n",
    "Function depend on these :\n",
    "\n",
    ". Function Declaration\n",
    ". Function Body\n",
    ". Function Calling\n",
    "\n",
    "---------------------------------------------\n",
    "\n",
    "Return Function:\n",
    "\n",
    "which function returns some values that we can assign in other variable \n",
    "i.e x , is called return funnction\n",
    "\n",
    "Example :\n",
    "\n",
    "def abc(firstName,lastName):\n",
    "\treturn firstName+\"\"+lastName\n",
    "\n",
    "x = abc(\"Adil\",\"Ather\")\n",
    "print(x)\n",
    "\n",
    "Out Put :\n",
    "\n",
    "Adil Ather\n",
    "\n",
    "---------------------------------------------\n",
    "\n",
    "Non Return Function :\n",
    "\n",
    "Which function that dont return any value this function run and executes\n",
    "\n",
    "Example :\n",
    "\n",
    "def abc(firstName,lastName):\n",
    "\tprint(firstName+\"\"+lastName)\n",
    "\n",
    "abc(\"Adil\",\"Ather\")\n",
    "\n",
    "Out Put :\n",
    "\n",
    "Adil Ather\n",
    "\n",
    "--------------------------------------------\n",
    "\n",
    "Required Arguments Function :\n",
    "\n",
    "Which function that required argument if not program crash \n",
    "\n",
    "def abc(firstName,lastName):\n",
    "\tprint(firstName+\"\"+lastName)\n",
    "\n",
    "abc(\"Adil\")\n",
    "\n",
    "Out Put :\n",
    "\n",
    "Error\n",
    "\n",
    "Note : Because this function required 2 arguments but we provide 1 Argument i.e \"Adil\" only\n",
    "\n",
    "---------------------------------------------------------------\n",
    "\n",
    "Optional Arguments Function :\n",
    "\n",
    "which function that has option argument if we give this argument so function process this argument\n",
    "value otherwise this argument value default set by programer when declare the function ( cell = \" Nonumber \" )\n",
    "\n",
    "Example :\n",
    "\n",
    "def abc(firstName,lastName,cell=\"Nonumber\"):\n",
    "\tprint(firstName+\"\"+lastName)\n",
    "\tif cell != \"Nonumber\"\n",
    "\t\tprint cell\n",
    "\n",
    "abc(\"Adil\",\"Ather\")\n",
    "abc(\"Imran\",\"Khan\",\"0332\")\n",
    "\n",
    "Out Put :\n",
    "\n",
    "Adil Ather\n",
    "Imran Khan 0332\n",
    "\n",
    "----------------------------------------------------------------------------\n",
    "\n",
    "Default Function :\n",
    "\n",
    "No argument required.\n",
    "\n",
    "Example :\n",
    "\n",
    "def abc():\n",
    "\tprint(\"hi\")\n",
    "\tprint(\"thats Ok\")\n",
    "\n",
    "abc()\n",
    "\n",
    "Out Put :\n",
    "\n",
    "hi\n",
    "thats Ok  \n",
    "\n"
   ]
  },
  {
   "cell_type": "markdown",
   "metadata": {},
   "source": [
    "# Topics\n",
    "Functions\n",
    "Required Arguments\n",
    "Optional Arguments\n",
    "Return\n",
    "Non Return\n",
    "Defualt Arguments\n",
    "postional Arguments\n",
    "KeyWord Arguments\n",
    "Argument with List\n",
    "Argument with Dictionary\n",
    "pre defineFunctions\n",
    "User defineFunctions"
   ]
  },
  {
   "cell_type": "code",
   "execution_count": 1,
   "metadata": {},
   "outputs": [
    {
     "name": "stdout",
     "output_type": "stream",
     "text": [
      "My Name is Qasim\n",
      "Education: BSCS\n",
      "Nationality: Pakistani\n"
     ]
    }
   ],
   "source": [
    "print(\"My Name is Qasim\")\n",
    "print(\"Education: BSCS\")\n",
    "print(\"Nationality: Pakistani\")"
   ]
  },
  {
   "cell_type": "markdown",
   "metadata": {},
   "source": [
    "# Defualt Function"
   ]
  },
  {
   "cell_type": "code",
   "execution_count": 2,
   "metadata": {},
   "outputs": [
    {
     "name": "stdout",
     "output_type": "stream",
     "text": [
      "My Name is Qasim\n",
      "Education: BSCS\n",
      "Nationality: Pakistani\n"
     ]
    }
   ],
   "source": [
    "def TeacherInfo():\n",
    "    print(\"My Name is Qasim\")\n",
    "    print(\"Education: BSCS\")\n",
    "    print(\"Nationality: Pakistani\")\n",
    "\n",
    "TeacherInfo()"
   ]
  },
  {
   "cell_type": "markdown",
   "metadata": {},
   "source": [
    "# Return Function"
   ]
  },
  {
   "cell_type": "code",
   "execution_count": 8,
   "metadata": {},
   "outputs": [
    {
     "name": "stdout",
     "output_type": "stream",
     "text": [
      "My Name is Qasim\n",
      "Education: BSCS\n",
      "Nationality: Pakistani\n",
      "None\n"
     ]
    }
   ],
   "source": [
    "def TeacherInfo():\n",
    "    print(\"My Name is Qasim\")\n",
    "    print(\"Education: BSCS\")\n",
    "    print(\"Nationality: Pakistani\")\n",
    "\n",
    "\n",
    "x=TeacherInfo()\n",
    "print(x)"
   ]
  },
  {
   "cell_type": "markdown",
   "metadata": {},
   "source": [
    "# \n",
    "This is also Return function because variable x is here"
   ]
  },
  {
   "cell_type": "code",
   "execution_count": 6,
   "metadata": {},
   "outputs": [
    {
     "name": "stdout",
     "output_type": "stream",
     "text": [
      "Muhammad Qasim\n"
     ]
    }
   ],
   "source": [
    "def fullName1(fname, lname): # function define argument\n",
    "    return fname+\" \"+lname\n",
    "    \n",
    "x=fullName1(\"Muhammad\",\"Qasim\") # function calling parameters\n",
    "print(x)"
   ]
  },
  {
   "cell_type": "markdown",
   "metadata": {},
   "source": [
    "# \n",
    "Variabl Scope\n",
    ".local Variable\n",
    ".global Variable"
   ]
  },
  {
   "cell_type": "code",
   "execution_count": 4,
   "metadata": {},
   "outputs": [
    {
     "name": "stdout",
     "output_type": "stream",
     "text": [
      "SSUET\n",
      "Muhammad   SSUET\n"
     ]
    },
    {
     "ename": "NameError",
     "evalue": "name 'fname' is not defined",
     "output_type": "error",
     "traceback": [
      "\u001b[1;31m---------------------------------------------------------------------------\u001b[0m",
      "\u001b[1;31mNameError\u001b[0m                                 Traceback (most recent call last)",
      "\u001b[1;32m<ipython-input-4-b33041807a97>\u001b[0m in \u001b[0;36m<module>\u001b[1;34m()\u001b[0m\n\u001b[0;32m      9\u001b[0m \u001b[1;33m\u001b[0m\u001b[0m\n\u001b[0;32m     10\u001b[0m \u001b[0mfullName\u001b[0m\u001b[1;33m(\u001b[0m\u001b[1;33m)\u001b[0m\u001b[1;33m\u001b[0m\u001b[0m\n\u001b[1;32m---> 11\u001b[1;33m \u001b[0mprint\u001b[0m\u001b[1;33m(\u001b[0m\u001b[0mfname\u001b[0m\u001b[1;33m)\u001b[0m\u001b[1;33m\u001b[0m\u001b[0m\n\u001b[0m",
      "\u001b[1;31mNameError\u001b[0m: name 'fname' is not defined"
     ]
    }
   ],
   "source": [
    "Uni = 'SSUET' # global\n",
    "\n",
    "print(Uni)\n",
    "\n",
    "def fullName():\n",
    "    fname=\"Muhammad\" # local\n",
    "    lname=\"Qasim\" # local\n",
    "    print(fname,\" \",Uni)\n",
    "\n",
    "fullName()\n",
    "print(fname)"
   ]
  },
  {
   "cell_type": "markdown",
   "metadata": {},
   "source": [
    "# Non Return Function -- And-- Required Arguments Function "
   ]
  },
  {
   "cell_type": "code",
   "execution_count": 5,
   "metadata": {},
   "outputs": [
    {
     "name": "stdout",
     "output_type": "stream",
     "text": [
      "Muhammad Qasim\n"
     ]
    }
   ],
   "source": [
    "def fullName1(fname, lname): # function define parameters\n",
    "    print(fname+\" \"+lname)\n",
    "    \n",
    "fullName1(\"Muhammad\",\"Qasim\") # function calling arguments"
   ]
  },
  {
   "cell_type": "markdown",
   "metadata": {},
   "source": [
    "# Optional Arguments"
   ]
  },
  {
   "cell_type": "code",
   "execution_count": 11,
   "metadata": {},
   "outputs": [
    {
     "name": "stdout",
     "output_type": "stream",
     "text": [
      "AdilAther\n",
      "ImranKhan\n"
     ]
    }
   ],
   "source": [
    "def abc(firstName,lastName,cell=\"Nonumber\"):\n",
    "    print(firstName+\"\"+lastName)\n",
    "#    if cell != \"Nonumber\"\n",
    "#        print cell\n",
    "\n",
    "abc(\"Adil\",\"Ather\")\n",
    "abc(\"Imran\",\"Khan\",\"0332\")\n"
   ]
  },
  {
   "cell_type": "code",
   "execution_count": 9,
   "metadata": {},
   "outputs": [
    {
     "name": "stdout",
     "output_type": "stream",
     "text": [
      "FullName: Muhammad Qasim Contact: 03##-#######\n",
      "FullName: Muhammad Ahmed Contact: 0345-2571358\n"
     ]
    }
   ],
   "source": [
    "def Info(fname,lname,contact=\"03##-#######\"):\n",
    "    return \"FullName: \"+fname+\" \"+lname+' Contact: '+contact\n",
    "\n",
    "print(Info(\"Muhammad\",\"Qasim\"))\n",
    "print(Info(\"Muhammad\",\"Ahmed\",\"0345-2571358\"))"
   ]
  },
  {
   "cell_type": "markdown",
   "metadata": {},
   "source": [
    "# \n",
    "Call Function with postional Arguments"
   ]
  },
  {
   "cell_type": "code",
   "execution_count": 12,
   "metadata": {},
   "outputs": [
    {
     "data": {
      "text/plain": [
       "'FullName: Muhammad Qasim Contact: 315-2968211'"
      ]
     },
     "execution_count": 12,
     "metadata": {},
     "output_type": "execute_result"
    }
   ],
   "source": [
    "Info(\"Muhammad\",\"Qasim\",\"315-2968211\")"
   ]
  },
  {
   "cell_type": "markdown",
   "metadata": {},
   "source": [
    "# \n",
    "KeyWord Argument"
   ]
  },
  {
   "cell_type": "code",
   "execution_count": 13,
   "metadata": {},
   "outputs": [
    {
     "data": {
      "text/plain": [
       "'FullName: Muhammad Qasim Contact: 0315-1234567'"
      ]
     },
     "execution_count": 13,
     "metadata": {},
     "output_type": "execute_result"
    }
   ],
   "source": [
    "Info(contact=\"0315-1234567\",fname=\"Muhammad\", lname=\"Qasim\")"
   ]
  },
  {
   "cell_type": "markdown",
   "metadata": {},
   "source": [
    "# Provide Argument values with list"
   ]
  },
  {
   "cell_type": "code",
   "execution_count": 14,
   "metadata": {},
   "outputs": [
    {
     "name": "stdout",
     "output_type": "stream",
     "text": [
      "FullName: Muhammd Qasim Contact: 0345-1234567\n",
      "FullName: Muhammd Qasim Contact: 0345-1234567\n"
     ]
    }
   ],
   "source": [
    "abc =['Muhammd','Qasim','0345-1234567']\n",
    "\n",
    "print(Info(*abc))\n",
    "print(Info(abc[0],abc[1],abc[2]))"
   ]
  },
  {
   "cell_type": "markdown",
   "metadata": {},
   "source": [
    "# Provide Argument Key values with Dictionary"
   ]
  },
  {
   "cell_type": "code",
   "execution_count": 15,
   "metadata": {},
   "outputs": [
    {
     "data": {
      "text/plain": [
       "'FullName: Muhammad Qasim Contact: 0315-2968211'"
      ]
     },
     "execution_count": 15,
     "metadata": {},
     "output_type": "execute_result"
    }
   ],
   "source": [
    "xyz = {'contact':'0315-2968211',\n",
    "      'fname':'Muhammad',\n",
    "      'lname':'Qasim'}\n",
    "Info(xyz['fname'], xyz['lname'], xyz['contact'])"
   ]
  },
  {
   "cell_type": "code",
   "execution_count": 16,
   "metadata": {},
   "outputs": [
    {
     "data": {
      "text/plain": [
       "'FullName: Muhammad Qasim Contact: 0315-2968211'"
      ]
     },
     "execution_count": 16,
     "metadata": {},
     "output_type": "execute_result"
    }
   ],
   "source": [
    "Info(**xyz)"
   ]
  },
  {
   "cell_type": "markdown",
   "metadata": {},
   "source": [
    "# Class"
   ]
  },
  {
   "cell_type": "code",
   "execution_count": 7,
   "metadata": {},
   "outputs": [
    {
     "name": "stdout",
     "output_type": "stream",
     "text": [
      "This is tomy and 6 old. Total Dogs are 1\n",
      "My dog's name is Tomy.\n",
      "This is Wille and 3 old. Total Dogs are 2\n",
      "This is Billie and 5 old. Total Dogs are 3\n",
      "This is Tille and 10 old. Total Dogs are 4\n"
     ]
    }
   ],
   "source": [
    "class Dog():# Class\n",
    "    \n",
    "    counter=0 # Class Variable\n",
    "    \n",
    "    def __init__(self,name,age): # Constructor\n",
    "        self.kkk=age # Attribute/properties\n",
    "        self.name=name #Attribute\n",
    "        Dog.counter = Dog.counter + 1\n",
    "        print(\"This is {} and {} old. Total Dogs are {}\".format(name,age,Dog.counter))\n",
    "        \n",
    "    \n",
    "    def bark(self,words): # Method\n",
    "        return words+\"....!\"\n",
    "    \n",
    "my_dog = Dog('tomy', 6)\n",
    "print(\"My dog's name is \" + my_dog.name.title() + \".\")\n",
    "\n",
    "d1 = Dog('Wille',3)\n",
    "d2 = Dog(\"Billie\", 5)\n",
    "d3 = Dog(\"Tille\",10)"
   ]
  }
 ],
 "metadata": {
  "kernelspec": {
   "display_name": "Python 3",
   "language": "python",
   "name": "python3"
  },
  "language_info": {
   "codemirror_mode": {
    "name": "ipython",
    "version": 3
   },
   "file_extension": ".py",
   "mimetype": "text/x-python",
   "name": "python",
   "nbconvert_exporter": "python",
   "pygments_lexer": "ipython3",
   "version": "3.7.0"
  }
 },
 "nbformat": 4,
 "nbformat_minor": 2
}
